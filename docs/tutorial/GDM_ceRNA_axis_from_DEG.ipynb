{
 "cells": [
  {
   "cell_type": "markdown",
   "id": "31e2b410",
   "metadata": {},
   "source": [
    "### Use differential expressed (DE) miRNA/mRNA to get cohort-specific and disease relatated ceRNA axis from GDM data\n",
    "\n",
    "Background of GDM data:\n",
    "\n",
    "```text\n",
    "With applications to gestational diabetes mellitus (GDM), we predicted nine risk protein-coding biomarkers and some potential lncRNA–miRNA–mRNA regulatory axes, which all correlated with GDM. In those regulatory axes, the MALAT1/hsa-miR-144-3p/IRS1 axis was predicted to be the key axis and was identified as being associated with GDM for the first time.\n",
    "```"
   ]
  },
  {
   "cell_type": "code",
   "execution_count": 7,
   "id": "1fa298a5",
   "metadata": {},
   "outputs": [
    {
     "name": "stdout",
     "output_type": "stream",
     "text": [
      "The autoreload extension is already loaded. To reload it, use:\n",
      "  %reload_ext autoreload\n"
     ]
    }
   ],
   "source": [
    "%load_ext autoreload\n",
    "\n",
    "# Just download the github, and load the cernaxis into python path\n",
    "# do\n",
    "import sys\n",
    "sys.path.append('../../')\n",
    "\n",
    "# or install cernaxis by pip\n",
    "#!pip install git+https://github.com/compbioclub/cernaxis.git@v1_as\n",
    "\n",
    "\n",
    "from cernaxis.cernaxis import ceRNAxis\n",
    "\n",
    "# initialize cernaxis object\n",
    "cernaxis = ceRNAxis()"
   ]
  },
  {
   "cell_type": "code",
   "execution_count": 8,
   "id": "57ceea84",
   "metadata": {},
   "outputs": [
    {
     "name": "stdout",
     "output_type": "stream",
     "text": [
      "['hsa-miR-125a-3p', 'hsa-miR-619-5p', 'hsa-miR-224-5p', 'hsa-miR-3180-1-3p', 'hsa-miR-3180-2-3p']\n",
      "['PSAP', 'SNORD17', 'SNORD15B', 'RAB13', 'FLNA']\n"
     ]
    }
   ],
   "source": [
    "%autoreload\n",
    "\n",
    "# Use DE miRNA/mRNA to get the ceRNA_axis\n",
    "\n",
    "import pandas as pd\n",
    "\n",
    "# use DE miRNA list as the strict criteria\n",
    "miRNA_list = pd.read_csv('../../demo/GDM_DEG_miRNA_GSE112168.txt')['symbol'].to_list()\n",
    "print(miRNA_list[:5])\n",
    "mRNA_list = pd.read_csv('../../demo/GDM_DEG_mRNA_GSE154377.txt')['symbol'].to_list()\n",
    "print(mRNA_list[:5])"
   ]
  },
  {
   "cell_type": "code",
   "execution_count": 9,
   "id": "51360145",
   "metadata": {},
   "outputs": [
    {
     "name": "stderr",
     "output_type": "stream",
     "text": [
      "/Users/chenlingxi/Library/CloudStorage/Dropbox/workspace/SCZ/ceRNAxis/docs/tutorial/../../cernaxis/cernaxis.py:32: SettingWithCopyWarning: \n",
      "A value is trying to be set on a copy of a slice from a DataFrame.\n",
      "Try using .loc[row_indexer,col_indexer] = value instead\n",
      "\n",
      "See the caveats in the documentation: https://pandas.pydata.org/pandas-docs/stable/user_guide/indexing.html#returning-a-view-versus-a-copy\n"
     ]
    },
    {
     "data": {
      "text/html": [
       "<div>\n",
       "<style scoped>\n",
       "    .dataframe tbody tr th:only-of-type {\n",
       "        vertical-align: middle;\n",
       "    }\n",
       "\n",
       "    .dataframe tbody tr th {\n",
       "        vertical-align: top;\n",
       "    }\n",
       "\n",
       "    .dataframe thead th {\n",
       "        text-align: right;\n",
       "    }\n",
       "</style>\n",
       "<table border=\"1\" class=\"dataframe\">\n",
       "  <thead>\n",
       "    <tr style=\"text-align: right;\">\n",
       "      <th></th>\n",
       "      <th>miRNA</th>\n",
       "      <th>ceRNA</th>\n",
       "      <th>species</th>\n",
       "      <th>database</th>\n",
       "      <th>type</th>\n",
       "      <th>inference</th>\n",
       "    </tr>\n",
       "  </thead>\n",
       "  <tbody>\n",
       "    <tr>\n",
       "      <th>220575</th>\n",
       "      <td>hsa-miR-106b-5p</td>\n",
       "      <td>ABCD1</td>\n",
       "      <td>Homo sapiens</td>\n",
       "      <td>miRWalk</td>\n",
       "      <td>miRNA-mRNA</td>\n",
       "      <td>strict</td>\n",
       "    </tr>\n",
       "    <tr>\n",
       "      <th>220710</th>\n",
       "      <td>hsa-miR-106b-5p</td>\n",
       "      <td>ACKR2</td>\n",
       "      <td>Homo sapiens</td>\n",
       "      <td>miRWalk</td>\n",
       "      <td>miRNA-mRNA</td>\n",
       "      <td>strict</td>\n",
       "    </tr>\n",
       "    <tr>\n",
       "      <th>220727</th>\n",
       "      <td>hsa-miR-106b-5p</td>\n",
       "      <td>ACVR2B</td>\n",
       "      <td>Homo sapiens</td>\n",
       "      <td>RNAInter</td>\n",
       "      <td>miRNA-mRNA</td>\n",
       "      <td>strict</td>\n",
       "    </tr>\n",
       "    <tr>\n",
       "      <th>220732</th>\n",
       "      <td>hsa-miR-106b-5p</td>\n",
       "      <td>ADAM22</td>\n",
       "      <td>Homo sapiens</td>\n",
       "      <td>miRWalk</td>\n",
       "      <td>miRNA-mRNA</td>\n",
       "      <td>strict</td>\n",
       "    </tr>\n",
       "    <tr>\n",
       "      <th>220735</th>\n",
       "      <td>hsa-miR-106b-5p</td>\n",
       "      <td>ADAMTS1</td>\n",
       "      <td>Homo sapiens</td>\n",
       "      <td>RNAInter</td>\n",
       "      <td>miRNA-mRNA</td>\n",
       "      <td>strict</td>\n",
       "    </tr>\n",
       "    <tr>\n",
       "      <th>...</th>\n",
       "      <td>...</td>\n",
       "      <td>...</td>\n",
       "      <td>...</td>\n",
       "      <td>...</td>\n",
       "      <td>...</td>\n",
       "      <td>...</td>\n",
       "    </tr>\n",
       "    <tr>\n",
       "      <th>2489318</th>\n",
       "      <td>hsa-miR-363-3p</td>\n",
       "      <td>ZC3HAV1L</td>\n",
       "      <td>Homo sapiens</td>\n",
       "      <td>RNAInter;miRTarBase_9.0</td>\n",
       "      <td>miRNA-mRNA</td>\n",
       "      <td>strict</td>\n",
       "    </tr>\n",
       "    <tr>\n",
       "      <th>2489351</th>\n",
       "      <td>hsa-miR-363-3p</td>\n",
       "      <td>ZNF142</td>\n",
       "      <td>Homo sapiens</td>\n",
       "      <td>RNAInter</td>\n",
       "      <td>miRNA-mRNA</td>\n",
       "      <td>strict</td>\n",
       "    </tr>\n",
       "    <tr>\n",
       "      <th>2489387</th>\n",
       "      <td>hsa-miR-363-3p</td>\n",
       "      <td>ZNF470</td>\n",
       "      <td>Homo sapiens</td>\n",
       "      <td>miRWalk</td>\n",
       "      <td>miRNA-mRNA</td>\n",
       "      <td>strict</td>\n",
       "    </tr>\n",
       "    <tr>\n",
       "      <th>2489393</th>\n",
       "      <td>hsa-miR-363-3p</td>\n",
       "      <td>ZNF521</td>\n",
       "      <td>Homo sapiens</td>\n",
       "      <td>miRDB_6.0;RNAInter</td>\n",
       "      <td>miRNA-mRNA</td>\n",
       "      <td>strict</td>\n",
       "    </tr>\n",
       "    <tr>\n",
       "      <th>2489434</th>\n",
       "      <td>hsa-miR-363-3p</td>\n",
       "      <td>ZSCAN12</td>\n",
       "      <td>Homo sapiens</td>\n",
       "      <td>RNAInter;miRTarBase_9.0</td>\n",
       "      <td>miRNA-mRNA</td>\n",
       "      <td>strict</td>\n",
       "    </tr>\n",
       "  </tbody>\n",
       "</table>\n",
       "<p>730 rows × 6 columns</p>\n",
       "</div>"
      ],
      "text/plain": [
       "                   miRNA     ceRNA       species                 database  \\\n",
       "220575   hsa-miR-106b-5p     ABCD1  Homo sapiens                  miRWalk   \n",
       "220710   hsa-miR-106b-5p     ACKR2  Homo sapiens                  miRWalk   \n",
       "220727   hsa-miR-106b-5p    ACVR2B  Homo sapiens                 RNAInter   \n",
       "220732   hsa-miR-106b-5p    ADAM22  Homo sapiens                  miRWalk   \n",
       "220735   hsa-miR-106b-5p   ADAMTS1  Homo sapiens                 RNAInter   \n",
       "...                  ...       ...           ...                      ...   \n",
       "2489318   hsa-miR-363-3p  ZC3HAV1L  Homo sapiens  RNAInter;miRTarBase_9.0   \n",
       "2489351   hsa-miR-363-3p    ZNF142  Homo sapiens                 RNAInter   \n",
       "2489387   hsa-miR-363-3p    ZNF470  Homo sapiens                  miRWalk   \n",
       "2489393   hsa-miR-363-3p    ZNF521  Homo sapiens       miRDB_6.0;RNAInter   \n",
       "2489434   hsa-miR-363-3p   ZSCAN12  Homo sapiens  RNAInter;miRTarBase_9.0   \n",
       "\n",
       "               type inference  \n",
       "220575   miRNA-mRNA    strict  \n",
       "220710   miRNA-mRNA    strict  \n",
       "220727   miRNA-mRNA    strict  \n",
       "220732   miRNA-mRNA    strict  \n",
       "220735   miRNA-mRNA    strict  \n",
       "...             ...       ...  \n",
       "2489318  miRNA-mRNA    strict  \n",
       "2489351  miRNA-mRNA    strict  \n",
       "2489387  miRNA-mRNA    strict  \n",
       "2489393  miRNA-mRNA    strict  \n",
       "2489434  miRNA-mRNA    strict  \n",
       "\n",
       "[730 rows x 6 columns]"
      ]
     },
     "execution_count": 9,
     "metadata": {},
     "output_type": "execute_result"
    }
   ],
   "source": [
    "%autoreload\n",
    "# Use strict DE miRNA to get the ceRNA_axis\n",
    "ceRNA_df, axis_df = cernaxis.find_ceRNA_axis_by_DEG_list(miRNA_list, mRNA_list)\n",
    "# store the filtered ceRNA network and ceRNA axis\n",
    "ceRNA_df.to_csv('../../demo_out/GDM_ceRNA_network.csv')\n",
    "axis_df.to_csv('../../demo_out/GDM_ceRNA_axis.csv')\n",
    "axis_df"
   ]
  },
  {
   "cell_type": "code",
   "execution_count": null,
   "id": "9ff16411",
   "metadata": {},
   "outputs": [],
   "source": []
  },
  {
   "cell_type": "markdown",
   "id": "ecb4af0b",
   "metadata": {},
   "source": [
    "Compared with DLRAPom detected ceRNA axes"
   ]
  },
  {
   "cell_type": "code",
   "execution_count": 10,
   "id": "3e0fa170",
   "metadata": {},
   "outputs": [
    {
     "name": "stdout",
     "output_type": "stream",
     "text": [
      "Interactions detected by both tools: {'hsa-miR-144-3p|MALAT1', 'hsa-miR-224-5p|ATP11A', 'hsa-miR-363-3p|MALAT1', 'hsa-miR-106b-5p|XIST', 'hsa-miR-224-5p|MALAT1', 'hsa-miR-144-3p|IRS1', 'hsa-miR-363-3p|XIST', 'hsa-miR-106b-5p|ATP11A', 'hsa-miR-106b-5p|MALAT1'}\n"
     ]
    },
    {
     "data": {
      "image/png": "[encoded data removed]",
      "text/plain": [
       "<Figure size 500x500 with 1 Axes>"
      ]
     },
     "metadata": {},
     "output_type": "display_data"
    }
   ],
   "source": [
    "\n",
    "import pandas as pd\n",
    "from plotnine import *\n",
    "import matplotlib.pyplot as plt\n",
    "\n",
    "df = pd.read_csv('../../demo_out/GDM_DLRAPom_ceRNA_axis.csv')\n",
    "df['Tool'] = 'DLRAPom'\n",
    "df3 = axis_df[['miRNA', 'ceRNA', 'type']].drop_duplicates()\n",
    "df3['Tool'] = 'ceRNAxis'\n",
    "df = pd.concat([df, df3])\n",
    "df\n",
    "\n",
    "summary = (\n",
    "    df\n",
    "    .drop_duplicates(['miRNA','ceRNA','type','Tool'])\n",
    "    .groupby('Tool')\n",
    "    .size()\n",
    "    .reset_index(name='# of interactions')\n",
    ")\n",
    "\n",
    "tools = summary['Tool'].tolist()\n",
    "sets = {\n",
    "    tool: set(df[df.Tool==tool].apply(lambda r: f\"{r.miRNA}|{r.ceRNA}\", axis=1))\n",
    "    for tool in tools\n",
    "}\n",
    "\n",
    "print('Interactions detected by both tools:', sets['DLRAPom'] & sets['ceRNAxis'])\n",
    "\n",
    "from matplotlib_venn import venn2\n",
    "A, B = tools\n",
    "fig = plt.figure(figsize=(5,5))\n",
    "venn2([sets[A], sets[B]], set_labels=[A, B])\n",
    "\n",
    "\n",
    "plt.title('Detected ceRNA interactions in GDM data')\n",
    "plt.show()\n",
    "fig.savefig('../../demo_out/GDM_venn.pdf', format='pdf')\n"
   ]
  }
 ],
 "metadata": {
  "kernelspec": {
   "display_name": "dev",
   "language": "python",
   "name": "python3"
  },
  "language_info": {
   "codemirror_mode": {
    "name": "ipython",
    "version": 3
   },
   "file_extension": ".py",
   "mimetype": "text/x-python",
   "name": "python",
   "nbconvert_exporter": "python",
   "pygments_lexer": "ipython3",
   "version": "3.11.12"
  }
 },
 "nbformat": 4,
 "nbformat_minor": 5
}
