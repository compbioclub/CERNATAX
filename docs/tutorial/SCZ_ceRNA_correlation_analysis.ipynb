{
 "cells": [
  {
   "cell_type": "markdown",
   "id": "5c34c51c",
   "metadata": {},
   "source": [
    "### ceRNA-axis correlation analysis for a cohort"
   ]
  },
  {
   "cell_type": "code",
   "execution_count": 2,
   "id": "2e3ee5c9",
   "metadata": {},
   "outputs": [],
   "source": [
    "%load_ext autoreload\n",
    "\n",
    "# Just download the github, and load the cernaxis into python path\n",
    "# do\n",
    "import sys\n",
    "sys.path.append('../../')\n",
    "\n",
    "# or install cernaxis by pip\n",
    "#!pip install git+https://github.com/compbioclub/cernaxis.git@v1_as\n",
    "\n",
    "from cernaxis.cernaxis import ceRNAxis\n",
    "\n",
    "# initialize cernaxis object\n",
    "cernaxis = ceRNAxis()"
   ]
  },
  {
   "cell_type": "markdown",
   "id": "2eb4cd18",
   "metadata": {},
   "source": [
    "#### Load the SCZ data"
   ]
  },
  {
   "cell_type": "code",
   "execution_count": 3,
   "id": "e592dcd6",
   "metadata": {},
   "outputs": [
    {
     "name": "stderr",
     "output_type": "stream",
     "text": [
      "C:\\Users\\User\\AppData\\Roaming\\Python\\Python312\\site-packages\\anndata\\_core\\anndata.py:1758: UserWarning: Variable names are not unique. To make them unique, call `.var_names_make_unique`.\n",
      "  utils.warn_names_duplicates(\"var\")\n"
     ]
    },
    {
     "data": {
      "text/plain": [
       "AnnData object with n_obs × n_vars = 11 × 80573\n",
       "    obs: 'type'\n",
       "    layers: 'count'"
      ]
     },
     "execution_count": 3,
     "metadata": {},
     "output_type": "execute_result"
    }
   ],
   "source": [
    "%autoreload\n",
    "\n",
    "import scanpy as sc\n",
    "import anndata as ad\n",
    "\n",
    "lncRNA_adata = sc.read_h5ad('../../demo/SCZ_lncRNA.h5ad')\n",
    "lncRNA_adata.var_names_make_unique()\n",
    "\n",
    "miRNA_adata = sc.read_h5ad('../../demo/SCZ_miRNA.h5ad')\n",
    "miRNA_adata.var_names_make_unique()\n",
    "\n",
    "mRNA_adata = sc.read_h5ad('../../demo/SCZ_mRNA.h5ad')\n",
    "mRNA_adata.var_names_make_unique()\n",
    "\n",
    "adata = ad.concat([mRNA_adata, miRNA_adata, lncRNA_adata], axis=1)\n",
    "adata.obs = mRNA_adata.obs\n",
    "adata.layers['count'] = adata.X\n",
    "adata"
   ]
  },
  {
   "cell_type": "markdown",
   "id": "93ea2f00",
   "metadata": {},
   "source": [
    "#### Calculate the correlation of ceRNA axis"
   ]
  },
  {
   "cell_type": "code",
   "execution_count": null,
   "id": "ba85cf58",
   "metadata": {},
   "outputs": [
    {
     "data": {
      "text/html": [
       "<div>\n",
       "<style scoped>\n",
       "    .dataframe tbody tr th:only-of-type {\n",
       "        vertical-align: middle;\n",
       "    }\n",
       "\n",
       "    .dataframe tbody tr th {\n",
       "        vertical-align: top;\n",
       "    }\n",
       "\n",
       "    .dataframe thead th {\n",
       "        text-align: right;\n",
       "    }\n",
       "</style>\n",
       "<table border=\"1\" class=\"dataframe\">\n",
       "  <thead>\n",
       "    <tr style=\"text-align: right;\">\n",
       "      <th></th>\n",
       "      <th>patient</th>\n",
       "      <th>gene1</th>\n",
       "      <th>gene2</th>\n",
       "      <th>correlation type</th>\n",
       "      <th>correlation</th>\n",
       "      <th>p value</th>\n",
       "    </tr>\n",
       "  </thead>\n",
       "  <tbody>\n",
       "    <tr>\n",
       "      <th>0</th>\n",
       "      <td>All</td>\n",
       "      <td>ARHGAP8</td>\n",
       "      <td>hsa-miR-485-5p</td>\n",
       "      <td>Pearson Correlation</td>\n",
       "      <td>-0.306925</td>\n",
       "      <td>0.358586</td>\n",
       "    </tr>\n",
       "    <tr>\n",
       "      <th>1</th>\n",
       "      <td>All</td>\n",
       "      <td>ARHGAP8</td>\n",
       "      <td>hsa-miR-485-5p</td>\n",
       "      <td>Spearman Correlation</td>\n",
       "      <td>-0.353139</td>\n",
       "      <td>0.286743</td>\n",
       "    </tr>\n",
       "    <tr>\n",
       "      <th>2</th>\n",
       "      <td>All</td>\n",
       "      <td>ARHGAP8</td>\n",
       "      <td>hsa-miR-485-5p</td>\n",
       "      <td>Kendall's tau</td>\n",
       "      <td>-0.288960</td>\n",
       "      <td>0.266716</td>\n",
       "    </tr>\n",
       "    <tr>\n",
       "      <th>3</th>\n",
       "      <td>All</td>\n",
       "      <td>ARHGAP8</td>\n",
       "      <td>ENST00000522525</td>\n",
       "      <td>Pearson Correlation</td>\n",
       "      <td>0.125301</td>\n",
       "      <td>0.713554</td>\n",
       "    </tr>\n",
       "    <tr>\n",
       "      <th>4</th>\n",
       "      <td>All</td>\n",
       "      <td>ARHGAP8</td>\n",
       "      <td>ENST00000522525</td>\n",
       "      <td>Spearman Correlation</td>\n",
       "      <td>0.316645</td>\n",
       "      <td>0.342765</td>\n",
       "    </tr>\n",
       "    <tr>\n",
       "      <th>5</th>\n",
       "      <td>All</td>\n",
       "      <td>ARHGAP8</td>\n",
       "      <td>ENST00000522525</td>\n",
       "      <td>Kendall's tau</td>\n",
       "      <td>0.255377</td>\n",
       "      <td>0.350808</td>\n",
       "    </tr>\n",
       "    <tr>\n",
       "      <th>6</th>\n",
       "      <td>All</td>\n",
       "      <td>hsa-miR-485-5p</td>\n",
       "      <td>ENST00000522525</td>\n",
       "      <td>Pearson Correlation</td>\n",
       "      <td>-0.301535</td>\n",
       "      <td>0.367519</td>\n",
       "    </tr>\n",
       "    <tr>\n",
       "      <th>7</th>\n",
       "      <td>All</td>\n",
       "      <td>hsa-miR-485-5p</td>\n",
       "      <td>ENST00000522525</td>\n",
       "      <td>Spearman Correlation</td>\n",
       "      <td>-0.601782</td>\n",
       "      <td>0.050138</td>\n",
       "    </tr>\n",
       "    <tr>\n",
       "      <th>8</th>\n",
       "      <td>All</td>\n",
       "      <td>hsa-miR-485-5p</td>\n",
       "      <td>ENST00000522525</td>\n",
       "      <td>Kendall's tau</td>\n",
       "      <td>-0.522233</td>\n",
       "      <td>0.057589</td>\n",
       "    </tr>\n",
       "  </tbody>\n",
       "</table>\n",
       "</div>"
      ],
      "text/plain": [
       "  patient           gene1            gene2      correlation type  correlation  \\\n",
       "0     All         ARHGAP8   hsa-miR-485-5p   Pearson Correlation    -0.306925   \n",
       "1     All         ARHGAP8   hsa-miR-485-5p  Spearman Correlation    -0.353139   \n",
       "2     All         ARHGAP8   hsa-miR-485-5p         Kendall's tau    -0.288960   \n",
       "3     All         ARHGAP8  ENST00000522525   Pearson Correlation     0.125301   \n",
       "4     All         ARHGAP8  ENST00000522525  Spearman Correlation     0.316645   \n",
       "5     All         ARHGAP8  ENST00000522525         Kendall's tau     0.255377   \n",
       "6     All  hsa-miR-485-5p  ENST00000522525   Pearson Correlation    -0.301535   \n",
       "7     All  hsa-miR-485-5p  ENST00000522525  Spearman Correlation    -0.601782   \n",
       "8     All  hsa-miR-485-5p  ENST00000522525         Kendall's tau    -0.522233   \n",
       "\n",
       "    p value  \n",
       "0  0.358586  \n",
       "1  0.286743  \n",
       "2  0.266716  \n",
       "3  0.713554  \n",
       "4  0.342765  \n",
       "5  0.350808  \n",
       "6  0.367519  \n",
       "7  0.050138  \n",
       "8  0.057589  "
      ]
     },
     "execution_count": 4,
     "metadata": {},
     "output_type": "execute_result"
    }
   ],
   "source": [
    "%autoreload\n",
    "\n",
    "import anndata as ad\n",
    "# merge the mRNA, miRNA, and lncRNA expression profiles\n",
    "adata = ad.concat([mRNA_adata.T, miRNA_adata.T, lncRNA_adata.T], merge=\"same\").T\n",
    "# set the interested ceRNA axis \n",
    "ceRNA_axis_list = [('ARHGAP8', 'hsa-miR-485-5p'), ('ARHGAP8', 'ENST00000522525'), ('hsa-miR-485-5p', 'ENST00000522525')]\n",
    "# calculate the correlation\n",
    "corr_df = cernaxis.cohort_ceRNA_corr(adata, ceRNA_axis_list)\n",
    "corr_df.to_csv('../../demo_out/SCZ_axis_correlation.csv')\n",
    "# output correlation\n",
    "corr_df"
   ]
  }
 ],
 "metadata": {
  "kernelspec": {
   "display_name": "base",
   "language": "python",
   "name": "python3"
  },
  "language_info": {
   "codemirror_mode": {
    "name": "ipython",
    "version": 3
   },
   "file_extension": ".py",
   "mimetype": "text/x-python",
   "name": "python",
   "nbconvert_exporter": "python",
   "pygments_lexer": "ipython3",
   "version": "3.12.1"
  }
 },
 "nbformat": 4,
 "nbformat_minor": 5
}
