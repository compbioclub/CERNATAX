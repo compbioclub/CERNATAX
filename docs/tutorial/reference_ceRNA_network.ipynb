{
 "cells": [
  {
   "cell_type": "markdown",
   "id": "a6c55ba4",
   "metadata": {},
   "source": [
    "### Basic operations and stats for the reference ceRNA network"
   ]
  },
  {
   "cell_type": "code",
   "execution_count": 1,
   "id": "8e48215a",
   "metadata": {},
   "outputs": [],
   "source": [
    "%load_ext autoreload\n",
    "\n",
    "# Just download the github, and load the cernaxis into python path\n",
    "# do\n",
    "import sys\n",
    "sys.path.append('../../')\n",
    "\n",
    "# or install cernaxis by pip\n",
    "#!pip install git+https://github.com/compbioclub/cernaxis.git@v1_as\n",
    "\n",
    "from cernaxis.cernaxis import ceRNAxis\n",
    "\n",
    "# initialize cernaxis object\n",
    "cernaxis = ceRNAxis()"
   ]
  },
  {
   "cell_type": "code",
   "execution_count": 2,
   "id": "dd31abaf-742e-47e5-aadf-4988cc4f89f7",
   "metadata": {},
   "outputs": [
    {
     "name": "stdout",
     "output_type": "stream",
     "text": [
      "A total of 7820904 miRNA-mRNA interaction and 176510 miRNA-lncRNA interaction\n",
      "type\n",
      "miRNA-mRNA                 7820904\n",
      "miRNA-lncRNA                176510\n",
      "miRNA-mRNA;miRNA-lncRNA      10915\n",
      "Name: count, dtype: int64\n",
      "None\n"
     ]
    }
   ],
   "source": [
    "%autoreload\n",
    "\n",
    "# show CERNATAX reference ceRNA network\n",
    "print(cernaxis.summarize_ref_net())"
   ]
  },
  {
   "cell_type": "code",
   "execution_count": 3,
   "id": "cee935ae",
   "metadata": {},
   "outputs": [
    {
     "name": "stdout",
     "output_type": "stream",
     "text": [
      "database\n",
      "miRWalk                                                                 6494557\n",
      "RNAInter                                                                 425707\n",
      "miRDB_6.0                                                                297889\n",
      "RNAInter;miRTarBase_9.0                                                  252458\n",
      "NPInter_4.0                                                              109142\n",
      "                                                                         ...   \n",
      "miRDB_6.0;RNAInter;ENCORI                                                     2\n",
      "miRDB_6.0;ENCORI                                                              2\n",
      "RNAInter;miRWalk;ENCORI                                                       2\n",
      "miRDB_6.0;NPInter_4.0;miRTarBase_9.0                                          1\n",
      "TargetSCAN_8.0;NPInter_4.0;miRTarBase_9.0;RNAInter;miRDB_6.0;miRWalk          1\n",
      "Name: count, Length: 69, dtype: int64\n"
     ]
    }
   ],
   "source": [
    "# extract the CERNATAX reference ceRNA network \n",
    "ref_net = cernaxis.ref_net\n",
    "\n",
    "# there are some operations to filter the ceRNA interactions from the ref_net\n",
    "# show reference interaction source\n",
    "print(ref_net.database.value_counts())"
   ]
  },
  {
   "cell_type": "code",
   "execution_count": 4,
   "id": "7c1bdb30",
   "metadata": {},
   "outputs": [
    {
     "name": "stdout",
     "output_type": "stream",
     "text": [
      "The number of unique ceRNA interactions:  30177\n",
      "The number of unique miRNA-mRNA interactions:  21354\n",
      "The number of unique miRNA-lncRNA interactions:  12849\n"
     ]
    }
   ],
   "source": [
    "# store the miRNA-mRNA;miRNA-lncRNA interactions\n",
    "cernaxis.ref_net[cernaxis.ref_net.type == 'miRNA-mRNA;miRNA-lncRNA'].to_csv('../../demo_out/ceRNA_db_mix.csv')\n",
    "\n",
    "print('The number of unique ceRNA interactions: ', len(ref_net.ceRNA.unique()))\n",
    "print('The number of unique miRNA-mRNA interactions: ', len(ref_net[ref_net.type == 'miRNA-mRNA'].ceRNA.unique()))\n",
    "print('The number of unique miRNA-lncRNA interactions: ', len(ref_net[ref_net.type == 'miRNA-lncRNA'].ceRNA.unique()))"
   ]
  }
 ],
 "metadata": {
  "kernelspec": {
   "display_name": "base",
   "language": "python",
   "name": "python3"
  },
  "language_info": {
   "codemirror_mode": {
    "name": "ipython",
    "version": 3
   },
   "file_extension": ".py",
   "mimetype": "text/x-python",
   "name": "python",
   "nbconvert_exporter": "python",
   "pygments_lexer": "ipython3",
   "version": "3.12.1"
  }
 },
 "nbformat": 4,
 "nbformat_minor": 5
}
